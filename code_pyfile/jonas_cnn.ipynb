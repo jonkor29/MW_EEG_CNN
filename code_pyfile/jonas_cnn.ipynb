{
 "cells": [
  {
   "cell_type": "code",
   "execution_count": null,
   "metadata": {},
   "outputs": [],
   "source": [
    "print(\"Hello, World!\")"
   ]
  },
  {
   "cell_type": "code",
   "execution_count": 56,
   "metadata": {},
   "outputs": [
    {
     "ename": "",
     "evalue": "",
     "output_type": "error",
     "traceback": [
      "\u001b[1;31mRunning cells with 'contemplativeNeuroscience (Python 3.10.16)' requires the ipykernel package.\n",
      "\u001b[1;31mRun the following command to install 'ipykernel' into the Python environment. \n",
      "\u001b[1;31mCommand: 'conda install -n contemplativeNeuroscience ipykernel --update-deps --force-reinstall'"
     ]
    }
   ],
   "source": [
    "import numpy as np\n",
    "from EEGModels import EEGNet\n",
    "import tensorflow as tf\n",
    "from sklearn.model_selection import train_test_split "
   ]
  },
  {
   "cell_type": "code",
   "execution_count": 57,
   "metadata": {},
   "outputs": [
    {
     "name": "stdout",
     "output_type": "stream",
     "text": [
      "GPUs:  [PhysicalDevice(name='/physical_device:GPU:0', device_type='GPU')]\n",
      "Running on GPU: /job:localhost/replica:0/task:0/device:GPU:0\n"
     ]
    }
   ],
   "source": [
    "\n",
    "gpus = tf.config.list_physical_devices('GPU')\n",
    "print(\"GPUs: \", gpus)\n",
    "\n",
    "with tf.device('/GPU:0'):\n",
    "    gpu_tensor = tf.constant([1, 2, 3])\n",
    "    print(\"Running on GPU:\", gpu_tensor.device)"
   ]
  },
  {
   "cell_type": "code",
   "execution_count": 58,
   "metadata": {},
   "outputs": [],
   "source": [
    "loaded = np.load('loaded_dataset.npz')\n",
    "X, y, s = loaded['X'], loaded['y'], loaded['s']"
   ]
  },
  {
   "cell_type": "code",
   "execution_count": 59,
   "metadata": {},
   "outputs": [
    {
     "name": "stdout",
     "output_type": "stream",
     "text": [
      "Number of samples:  3880\n",
      "Number of channels:  32\n",
      "Number of timesteps:  180\n"
     ]
    }
   ],
   "source": [
    "#define constants\n",
    "NUM_SAMPLES = X.shape[0]\n",
    "NUM_CHANNELS = X.shape[1]\n",
    "NUM_TIMESTEPS = X.shape[2]\n",
    "NUM_CLASSES = 2\n",
    "SAMPLE_RATE = 128 #TODO: find the actual sampling rate by reading Jins paper or looking through the matlab code\n",
    "\n",
    "print(\"Number of samples: \", NUM_SAMPLES)\n",
    "print(\"Number of channels: \", NUM_CHANNELS)\n",
    "print(\"Number of timesteps: \", NUM_TIMESTEPS)"
   ]
  },
  {
   "cell_type": "code",
   "execution_count": 60,
   "metadata": {},
   "outputs": [
    {
     "name": "stdout",
     "output_type": "stream",
     "text": [
      "Number of train samples:  3104\n",
      "Number of val samples:  388\n",
      "Number of test samples:  388\n"
     ]
    }
   ],
   "source": [
    "#split data into train, val and test\n",
    "X_train, X_temp, y_train, y_temp = train_test_split(X, y, test_size=0.2, random_state=42)\n",
    "X_val, X_test, y_val, y_test = train_test_split(X_temp, y_temp, test_size=0.5, random_state=42)\n",
    "\n",
    "NUM_TRAIN_SAMPLES = X_train.shape[0]\n",
    "NUM_VAL_SAMPLES = X_val.shape[0]\n",
    "NUM_TEST_SAMPLES = X_test.shape[0]\n",
    "print(\"Number of train samples: \", NUM_TRAIN_SAMPLES)\n",
    "print(\"Number of val samples: \", NUM_VAL_SAMPLES)\n",
    "print(\"Number of test samples: \", NUM_TEST_SAMPLES)"
   ]
  },
  {
   "cell_type": "code",
   "execution_count": 61,
   "metadata": {},
   "outputs": [],
   "source": [
    "model = EEGNet(nb_classes=NUM_CLASSES, Chans=NUM_CHANNELS, Samples=NUM_TIMESTEPS, dropoutRate=0.5, kernLength=SAMPLE_RATE//2, F1=8, D=2, F2=16, dropoutType='Dropout')"
   ]
  },
  {
   "cell_type": "code",
   "execution_count": 62,
   "metadata": {},
   "outputs": [],
   "source": [
    "model.compile(optimizer='adam', loss='sparse_categorical_crossentropy', metrics=['accuracy'])"
   ]
  },
  {
   "cell_type": "code",
   "execution_count": 63,
   "metadata": {},
   "outputs": [
    {
     "name": "stderr",
     "output_type": "stream",
     "text": [
      "E0000 00:00:1735753169.619041  502952 cuda_dnn.cc:522] Loaded runtime CuDNN library: 9.1.0 but source was compiled with: 9.3.0.  CuDNN library needs to have matching major version and equal or higher minor version. If using a binary install, upgrade your CuDNN library.  If building from sources, make sure the library loaded at runtime is compatible with the version specified during compile configuration.\n",
      "E0000 00:00:1735753169.797030  502952 cuda_dnn.cc:522] Loaded runtime CuDNN library: 9.1.0 but source was compiled with: 9.3.0.  CuDNN library needs to have matching major version and equal or higher minor version. If using a binary install, upgrade your CuDNN library.  If building from sources, make sure the library loaded at runtime is compatible with the version specified during compile configuration.\n",
      "2025-01-01 18:39:29.804046: W tensorflow/core/framework/op_kernel.cc:1841] OP_REQUIRES failed at xla_ops.cc:577 : FAILED_PRECONDITION: DNN library initialization failed. Look at the errors above for more details.\n"
     ]
    },
    {
     "ename": "FailedPreconditionError",
     "evalue": "Graph execution error:\n\nDetected at node StatefulPartitionedCall defined at (most recent call last):\n  File \"/cluster/home/jonasjko/.conda/envs/contemplativeNeuroscience/lib/python3.10/runpy.py\", line 196, in _run_module_as_main\n\n  File \"/cluster/home/jonasjko/.conda/envs/contemplativeNeuroscience/lib/python3.10/runpy.py\", line 86, in _run_code\n\n  File \"/cluster/home/jonasjko/.conda/envs/contemplativeNeuroscience/lib/python3.10/site-packages/ipykernel_launcher.py\", line 18, in <module>\n\n  File \"/cluster/home/jonasjko/.conda/envs/contemplativeNeuroscience/lib/python3.10/site-packages/traitlets/config/application.py\", line 1075, in launch_instance\n\n  File \"/cluster/home/jonasjko/.conda/envs/contemplativeNeuroscience/lib/python3.10/site-packages/ipykernel/kernelapp.py\", line 739, in start\n\n  File \"/cluster/home/jonasjko/.conda/envs/contemplativeNeuroscience/lib/python3.10/site-packages/tornado/platform/asyncio.py\", line 205, in start\n\n  File \"/cluster/home/jonasjko/.conda/envs/contemplativeNeuroscience/lib/python3.10/asyncio/base_events.py\", line 603, in run_forever\n\n  File \"/cluster/home/jonasjko/.conda/envs/contemplativeNeuroscience/lib/python3.10/asyncio/base_events.py\", line 1909, in _run_once\n\n  File \"/cluster/home/jonasjko/.conda/envs/contemplativeNeuroscience/lib/python3.10/asyncio/events.py\", line 80, in _run\n\n  File \"/cluster/home/jonasjko/.conda/envs/contemplativeNeuroscience/lib/python3.10/site-packages/ipykernel/kernelbase.py\", line 545, in dispatch_queue\n\n  File \"/cluster/home/jonasjko/.conda/envs/contemplativeNeuroscience/lib/python3.10/site-packages/ipykernel/kernelbase.py\", line 534, in process_one\n\n  File \"/cluster/home/jonasjko/.conda/envs/contemplativeNeuroscience/lib/python3.10/site-packages/ipykernel/kernelbase.py\", line 437, in dispatch_shell\n\n  File \"/cluster/home/jonasjko/.conda/envs/contemplativeNeuroscience/lib/python3.10/site-packages/ipykernel/ipkernel.py\", line 362, in execute_request\n\n  File \"/cluster/home/jonasjko/.conda/envs/contemplativeNeuroscience/lib/python3.10/site-packages/ipykernel/kernelbase.py\", line 778, in execute_request\n\n  File \"/cluster/home/jonasjko/.conda/envs/contemplativeNeuroscience/lib/python3.10/site-packages/ipykernel/ipkernel.py\", line 449, in do_execute\n\n  File \"/cluster/home/jonasjko/.conda/envs/contemplativeNeuroscience/lib/python3.10/site-packages/ipykernel/zmqshell.py\", line 549, in run_cell\n\n  File \"/cluster/home/jonasjko/.conda/envs/contemplativeNeuroscience/lib/python3.10/site-packages/IPython/core/interactiveshell.py\", line 3075, in run_cell\n\n  File \"/cluster/home/jonasjko/.conda/envs/contemplativeNeuroscience/lib/python3.10/site-packages/IPython/core/interactiveshell.py\", line 3130, in _run_cell\n\n  File \"/cluster/home/jonasjko/.conda/envs/contemplativeNeuroscience/lib/python3.10/site-packages/IPython/core/async_helpers.py\", line 128, in _pseudo_sync_runner\n\n  File \"/cluster/home/jonasjko/.conda/envs/contemplativeNeuroscience/lib/python3.10/site-packages/IPython/core/interactiveshell.py\", line 3334, in run_cell_async\n\n  File \"/cluster/home/jonasjko/.conda/envs/contemplativeNeuroscience/lib/python3.10/site-packages/IPython/core/interactiveshell.py\", line 3517, in run_ast_nodes\n\n  File \"/cluster/home/jonasjko/.conda/envs/contemplativeNeuroscience/lib/python3.10/site-packages/IPython/core/interactiveshell.py\", line 3577, in run_code\n\n  File \"/tmp/ipykernel_482251/2655712854.py\", line 1, in <module>\n\n  File \"/cluster/home/jonasjko/.conda/envs/contemplativeNeuroscience/lib/python3.10/site-packages/keras/src/utils/traceback_utils.py\", line 117, in error_handler\n\n  File \"/cluster/home/jonasjko/.conda/envs/contemplativeNeuroscience/lib/python3.10/site-packages/keras/src/backend/tensorflow/trainer.py\", line 368, in fit\n\n  File \"/cluster/home/jonasjko/.conda/envs/contemplativeNeuroscience/lib/python3.10/site-packages/keras/src/backend/tensorflow/trainer.py\", line 216, in function\n\n  File \"/cluster/home/jonasjko/.conda/envs/contemplativeNeuroscience/lib/python3.10/site-packages/keras/src/backend/tensorflow/trainer.py\", line 129, in multi_step_on_iterator\n\nDNN library initialization failed. Look at the errors above for more details.\n\t [[{{node StatefulPartitionedCall}}]] [Op:__inference_multi_step_on_iterator_14247]",
     "output_type": "error",
     "traceback": [
      "\u001b[0;31m---------------------------------------------------------------------------\u001b[0m",
      "\u001b[0;31mFailedPreconditionError\u001b[0m                   Traceback (most recent call last)",
      "Cell \u001b[0;32mIn[63], line 1\u001b[0m\n\u001b[0;32m----> 1\u001b[0m fitted \u001b[38;5;241m=\u001b[39m \u001b[43mmodel\u001b[49m\u001b[38;5;241;43m.\u001b[39;49m\u001b[43mfit\u001b[49m\u001b[43m(\u001b[49m\u001b[43mX_train\u001b[49m\u001b[43m,\u001b[49m\u001b[43m \u001b[49m\u001b[43my_train\u001b[49m\u001b[43m,\u001b[49m\u001b[43m \u001b[49m\u001b[43mepochs\u001b[49m\u001b[38;5;241;43m=\u001b[39;49m\u001b[38;5;241;43m1\u001b[39;49m\u001b[43m,\u001b[49m\u001b[43m \u001b[49m\u001b[43mbatch_size\u001b[49m\u001b[38;5;241;43m=\u001b[39;49m\u001b[38;5;241;43m16\u001b[39;49m\u001b[43m,\u001b[49m\u001b[43m \u001b[49m\u001b[43mvalidation_data\u001b[49m\u001b[38;5;241;43m=\u001b[39;49m\u001b[43m(\u001b[49m\u001b[43mX_val\u001b[49m\u001b[43m,\u001b[49m\u001b[43m \u001b[49m\u001b[43my_val\u001b[49m\u001b[43m)\u001b[49m\u001b[43m)\u001b[49m\n",
      "File \u001b[0;32m~/.conda/envs/contemplativeNeuroscience/lib/python3.10/site-packages/keras/src/utils/traceback_utils.py:122\u001b[0m, in \u001b[0;36mfilter_traceback.<locals>.error_handler\u001b[0;34m(*args, **kwargs)\u001b[0m\n\u001b[1;32m    119\u001b[0m     filtered_tb \u001b[38;5;241m=\u001b[39m _process_traceback_frames(e\u001b[38;5;241m.\u001b[39m__traceback__)\n\u001b[1;32m    120\u001b[0m     \u001b[38;5;66;03m# To get the full stack trace, call:\u001b[39;00m\n\u001b[1;32m    121\u001b[0m     \u001b[38;5;66;03m# `keras.config.disable_traceback_filtering()`\u001b[39;00m\n\u001b[0;32m--> 122\u001b[0m     \u001b[38;5;28;01mraise\u001b[39;00m e\u001b[38;5;241m.\u001b[39mwith_traceback(filtered_tb) \u001b[38;5;28;01mfrom\u001b[39;00m \u001b[38;5;28;01mNone\u001b[39;00m\n\u001b[1;32m    123\u001b[0m \u001b[38;5;28;01mfinally\u001b[39;00m:\n\u001b[1;32m    124\u001b[0m     \u001b[38;5;28;01mdel\u001b[39;00m filtered_tb\n",
      "File \u001b[0;32m~/.conda/envs/contemplativeNeuroscience/lib/python3.10/site-packages/tensorflow/python/eager/execute.py:53\u001b[0m, in \u001b[0;36mquick_execute\u001b[0;34m(op_name, num_outputs, inputs, attrs, ctx, name)\u001b[0m\n\u001b[1;32m     51\u001b[0m \u001b[38;5;28;01mtry\u001b[39;00m:\n\u001b[1;32m     52\u001b[0m   ctx\u001b[38;5;241m.\u001b[39mensure_initialized()\n\u001b[0;32m---> 53\u001b[0m   tensors \u001b[38;5;241m=\u001b[39m pywrap_tfe\u001b[38;5;241m.\u001b[39mTFE_Py_Execute(ctx\u001b[38;5;241m.\u001b[39m_handle, device_name, op_name,\n\u001b[1;32m     54\u001b[0m                                       inputs, attrs, num_outputs)\n\u001b[1;32m     55\u001b[0m \u001b[38;5;28;01mexcept\u001b[39;00m core\u001b[38;5;241m.\u001b[39m_NotOkStatusException \u001b[38;5;28;01mas\u001b[39;00m e:\n\u001b[1;32m     56\u001b[0m   \u001b[38;5;28;01mif\u001b[39;00m name \u001b[38;5;129;01mis\u001b[39;00m \u001b[38;5;129;01mnot\u001b[39;00m \u001b[38;5;28;01mNone\u001b[39;00m:\n",
      "\u001b[0;31mFailedPreconditionError\u001b[0m: Graph execution error:\n\nDetected at node StatefulPartitionedCall defined at (most recent call last):\n  File \"/cluster/home/jonasjko/.conda/envs/contemplativeNeuroscience/lib/python3.10/runpy.py\", line 196, in _run_module_as_main\n\n  File \"/cluster/home/jonasjko/.conda/envs/contemplativeNeuroscience/lib/python3.10/runpy.py\", line 86, in _run_code\n\n  File \"/cluster/home/jonasjko/.conda/envs/contemplativeNeuroscience/lib/python3.10/site-packages/ipykernel_launcher.py\", line 18, in <module>\n\n  File \"/cluster/home/jonasjko/.conda/envs/contemplativeNeuroscience/lib/python3.10/site-packages/traitlets/config/application.py\", line 1075, in launch_instance\n\n  File \"/cluster/home/jonasjko/.conda/envs/contemplativeNeuroscience/lib/python3.10/site-packages/ipykernel/kernelapp.py\", line 739, in start\n\n  File \"/cluster/home/jonasjko/.conda/envs/contemplativeNeuroscience/lib/python3.10/site-packages/tornado/platform/asyncio.py\", line 205, in start\n\n  File \"/cluster/home/jonasjko/.conda/envs/contemplativeNeuroscience/lib/python3.10/asyncio/base_events.py\", line 603, in run_forever\n\n  File \"/cluster/home/jonasjko/.conda/envs/contemplativeNeuroscience/lib/python3.10/asyncio/base_events.py\", line 1909, in _run_once\n\n  File \"/cluster/home/jonasjko/.conda/envs/contemplativeNeuroscience/lib/python3.10/asyncio/events.py\", line 80, in _run\n\n  File \"/cluster/home/jonasjko/.conda/envs/contemplativeNeuroscience/lib/python3.10/site-packages/ipykernel/kernelbase.py\", line 545, in dispatch_queue\n\n  File \"/cluster/home/jonasjko/.conda/envs/contemplativeNeuroscience/lib/python3.10/site-packages/ipykernel/kernelbase.py\", line 534, in process_one\n\n  File \"/cluster/home/jonasjko/.conda/envs/contemplativeNeuroscience/lib/python3.10/site-packages/ipykernel/kernelbase.py\", line 437, in dispatch_shell\n\n  File \"/cluster/home/jonasjko/.conda/envs/contemplativeNeuroscience/lib/python3.10/site-packages/ipykernel/ipkernel.py\", line 362, in execute_request\n\n  File \"/cluster/home/jonasjko/.conda/envs/contemplativeNeuroscience/lib/python3.10/site-packages/ipykernel/kernelbase.py\", line 778, in execute_request\n\n  File \"/cluster/home/jonasjko/.conda/envs/contemplativeNeuroscience/lib/python3.10/site-packages/ipykernel/ipkernel.py\", line 449, in do_execute\n\n  File \"/cluster/home/jonasjko/.conda/envs/contemplativeNeuroscience/lib/python3.10/site-packages/ipykernel/zmqshell.py\", line 549, in run_cell\n\n  File \"/cluster/home/jonasjko/.conda/envs/contemplativeNeuroscience/lib/python3.10/site-packages/IPython/core/interactiveshell.py\", line 3075, in run_cell\n\n  File \"/cluster/home/jonasjko/.conda/envs/contemplativeNeuroscience/lib/python3.10/site-packages/IPython/core/interactiveshell.py\", line 3130, in _run_cell\n\n  File \"/cluster/home/jonasjko/.conda/envs/contemplativeNeuroscience/lib/python3.10/site-packages/IPython/core/async_helpers.py\", line 128, in _pseudo_sync_runner\n\n  File \"/cluster/home/jonasjko/.conda/envs/contemplativeNeuroscience/lib/python3.10/site-packages/IPython/core/interactiveshell.py\", line 3334, in run_cell_async\n\n  File \"/cluster/home/jonasjko/.conda/envs/contemplativeNeuroscience/lib/python3.10/site-packages/IPython/core/interactiveshell.py\", line 3517, in run_ast_nodes\n\n  File \"/cluster/home/jonasjko/.conda/envs/contemplativeNeuroscience/lib/python3.10/site-packages/IPython/core/interactiveshell.py\", line 3577, in run_code\n\n  File \"/tmp/ipykernel_482251/2655712854.py\", line 1, in <module>\n\n  File \"/cluster/home/jonasjko/.conda/envs/contemplativeNeuroscience/lib/python3.10/site-packages/keras/src/utils/traceback_utils.py\", line 117, in error_handler\n\n  File \"/cluster/home/jonasjko/.conda/envs/contemplativeNeuroscience/lib/python3.10/site-packages/keras/src/backend/tensorflow/trainer.py\", line 368, in fit\n\n  File \"/cluster/home/jonasjko/.conda/envs/contemplativeNeuroscience/lib/python3.10/site-packages/keras/src/backend/tensorflow/trainer.py\", line 216, in function\n\n  File \"/cluster/home/jonasjko/.conda/envs/contemplativeNeuroscience/lib/python3.10/site-packages/keras/src/backend/tensorflow/trainer.py\", line 129, in multi_step_on_iterator\n\nDNN library initialization failed. Look at the errors above for more details.\n\t [[{{node StatefulPartitionedCall}}]] [Op:__inference_multi_step_on_iterator_14247]"
     ]
    }
   ],
   "source": [
    "fitted = model.fit(X_train, y_train, epochs=1, batch_size=16, validation_data=(X_val, y_val))"
   ]
  },
  {
   "cell_type": "code",
   "execution_count": null,
   "metadata": {},
   "outputs": [],
   "source": []
  }
 ],
 "metadata": {
  "kernelspec": {
   "display_name": "Python 3",
   "language": "python",
   "name": "python3"
  },
  "language_info": {
   "codemirror_mode": {
    "name": "ipython",
    "version": 3
   },
   "file_extension": ".py",
   "mimetype": "text/x-python",
   "name": "python",
   "nbconvert_exporter": "python",
   "pygments_lexer": "ipython3",
   "version": "3.9.18"
  }
 },
 "nbformat": 4,
 "nbformat_minor": 2
}
